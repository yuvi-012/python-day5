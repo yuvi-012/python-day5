{
 "cells": [
  {
   "cell_type": "code",
   "execution_count": 1,
   "metadata": {},
   "outputs": [
    {
     "name": "stdout",
     "output_type": "stream",
     "text": [
      "[10, 501, 22, 37, 100, 999, 87, 351]\n"
     ]
    }
   ],
   "source": [
    "data = [10, 501, 22, 37, 100, 999, 87, 351]\n",
    "result = filter(lambda x: x > 4, data)\n",
    "print(list(result))\n",
    "     "
   ]
  },
  {
   "cell_type": "code",
   "execution_count": 2,
   "metadata": {},
   "outputs": [
    {
     "name": "stdout",
     "output_type": "stream",
     "text": [
      "Is Integer: [True, False, True, False, True, False]\n",
      "Is String: [False, True, False, True, False, True]\n"
     ]
    }
   ],
   "source": [
    "data = [10, 'hello', 22, 'world', 100, 'python']\n",
    "\n",
    "is_integer = list(map(lambda x: isinstance(x, int), data))\n",
    "is_string = list(map(lambda x: isinstance(x, str), data))\n",
    "\n",
    "print(\"Is Integer:\", is_integer)\n",
    "print(\"Is String:\", is_string)"
   ]
  },
  {
   "cell_type": "code",
   "execution_count": 3,
   "metadata": {},
   "outputs": [
    {
     "name": "stdout",
     "output_type": "stream",
     "text": [
      "[1, 1, 2, 3, 5, 8, 13, 21, 34, 55, 89, 144, 233, 377, 610, 987, 1597, 2584, 4181, 6765, 10946, 17711, 28657, 46368, 75025, 121393, 196418, 317811, 514229, 832040, 1346269, 2178309, 3524578, 5702887, 9227465, 14930352, 24157817, 39088169, 63245986, 102334155, 165580141, 267914296, 433494437, 701408733, 1134903170, 1836311903, 2971215073, 4807526976, 7778742049, 12586269025]\n"
     ]
    }
   ],
   "source": [
    "from functools import reduce\n",
    "\n",
    "fibonacci = lambda n: reduce(lambda x, _: x + [x[-1] + x[-2]], range(n-2), [1, 1])\n",
    "fib_series = fibonacci(50)\n",
    "print(fib_series)\n"
   ]
  },
  {
   "cell_type": "code",
   "execution_count": 4,
   "metadata": {},
   "outputs": [
    {
     "name": "stdout",
     "output_type": "stream",
     "text": [
      "True\n",
      "False\n",
      "True\n",
      "False\n"
     ]
    }
   ],
   "source": [
    "import re\n",
    "\n",
    "def validate_email(email):\n",
    "    pattern = r'^[a-zA-Z0-9._%+-]+@[a-zA-Z0-9.-]+\\.[a-zA-Z]{2,}$'\n",
    "    return re.match(pattern, email) is not None\n",
    "\n",
    "def validate_bangladesh_mobile(mobile):\n",
    "    pattern = r'^(?:\\+88|88)?(01[3-9]\\d{8})$'\n",
    "    return re.match(pattern, mobile) is not None\n",
    "\n",
    "def validate_usa_telephone(telephone):\n",
    "    pattern = r'^\\+?1?\\d{10}$'\n",
    "    return re.match(pattern, telephone) is not None\n",
    "\n",
    "def validate_password(password):\n",
    "    pattern = r'^(?=.*[a-z])(?=.*[A-Z])(?=.*\\d)(?=.*[@$!%*?&])[A-Za-z\\d@$!%*?&]{16,}$'\n",
    "    return re.match(pattern, password) is not None\n",
    "\n",
    "\n",
    "print(validate_email(\"test@example.com\"))  \n",
    "print(validate_bangladesh_mobile(\"+029345570\"))  \n",
    "print(validate_usa_telephone(\"+1234567890\"))  \n",
    "print(validate_password(\"Aa1@3456789bBcD\"))  \n"
   ]
  },
  {
   "cell_type": "code",
   "execution_count": null,
   "metadata": {},
   "outputs": [],
   "source": []
  },
  {
   "cell_type": "code",
   "execution_count": null,
   "metadata": {},
   "outputs": [],
   "source": []
  },
  {
   "cell_type": "code",
   "execution_count": null,
   "metadata": {},
   "outputs": [],
   "source": []
  },
  {
   "cell_type": "code",
   "execution_count": null,
   "metadata": {},
   "outputs": [],
   "source": []
  }
 ],
 "metadata": {
  "kernelspec": {
   "display_name": "Python 3",
   "language": "python",
   "name": "python3"
  },
  "language_info": {
   "codemirror_mode": {
    "name": "ipython",
    "version": 3
   },
   "file_extension": ".py",
   "mimetype": "text/x-python",
   "name": "python",
   "nbconvert_exporter": "python",
   "pygments_lexer": "ipython3",
   "version": "3.12.2"
  }
 },
 "nbformat": 4,
 "nbformat_minor": 2
}
